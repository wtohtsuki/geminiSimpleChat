{
  "nbformat": 4,
  "nbformat_minor": 0,
  "metadata": {
    "colab": {
      "provenance": [],
      "toc_visible": true,
      "authorship_tag": "ABX9TyMUurDLyDyw2k2c+8ZgI7Zz",
      "include_colab_link": true
    },
    "kernelspec": {
      "name": "python3",
      "display_name": "Python 3"
    },
    "language_info": {
      "name": "python"
    }
  },
  "cells": [
    {
      "cell_type": "markdown",
      "metadata": {
        "id": "view-in-github",
        "colab_type": "text"
      },
      "source": [
        "<a href=\"https://colab.research.google.com/github/wtohtsuki/geminiSimpleChat/blob/main/SimpleChat.ipynb\" target=\"_parent\"><img src=\"https://colab.research.google.com/assets/colab-badge.svg\" alt=\"Open In Colab\"/></a>"
      ]
    },
    {
      "cell_type": "markdown",
      "source": [
        "Install google generative SDK"
      ],
      "metadata": {
        "id": "aiB36vhsYSiT"
      }
    },
    {
      "cell_type": "code",
      "execution_count": null,
      "metadata": {
        "id": "ob7jZ9nsXyQe"
      },
      "outputs": [],
      "source": [
        "!pip install -q -U google.generativeai"
      ]
    },
    {
      "cell_type": "markdown",
      "source": [],
      "metadata": {
        "id": "e0u0-FGKYmm1"
      }
    },
    {
      "cell_type": "code",
      "source": [
        "# Import the Python SDK\n",
        "import google.generativeai as genai\n",
        "\n",
        "from google.colab import userdata\n",
        "\n",
        "GOOGLE_APY_KEY = userdata.get('secret_01')\n",
        "genai.configure(api_key=GOOGLE_APY_KEY)"
      ],
      "metadata": {
        "id": "uxqIUhy3Yl2F"
      },
      "execution_count": null,
      "outputs": []
    },
    {
      "cell_type": "code",
      "source": [
        "generation_config = {\n",
        "    'candidate_count': 1,\n",
        "    'temperature': 0.5,  # +criativo 1.0, -criativo 0.0\n",
        "}\n",
        "\n",
        "safety_settings = {\n",
        "    'harassment': 'BLOCK_NONE',\n",
        "    'hate': 'BLOCK_NONE',\n",
        "    'sexual': 'BLOCK_NONE',\n",
        "    'dangerous': 'BLOCK_NONE',\n",
        "}\n",
        "\n",
        "model = genai.GenerativeModel(model_name='gemini-1.0-pro',\n",
        "                              generation_config=generation_config,\n",
        "                              safety_settings=safety_settings)"
      ],
      "metadata": {
        "id": "pxGLyMnfYsmS"
      },
      "execution_count": null,
      "outputs": []
    },
    {
      "cell_type": "code",
      "source": [],
      "metadata": {
        "id": "kL-uicHwOtl5"
      },
      "execution_count": null,
      "outputs": []
    },
    {
      "cell_type": "code",
      "source": [
        "chat = model.start_chat(history=[])\n",
        "\n",
        "prompt = input('Aguardando comando: ')\n",
        "\n",
        "while prompt != 'fim':\n",
        "  response = chat.send_message(prompt)\n",
        "  print(response.text, '\\n')\n",
        "  prompt = input('O que mais: ')\n"
      ],
      "metadata": {
        "colab": {
          "base_uri": "https://localhost:8080/",
          "height": 191
        },
        "id": "pms_saTgMwJP",
        "outputId": "ad33bd56-5335-4088-ffb2-026d4a06d1db"
      },
      "execution_count": null,
      "outputs": [
        {
          "name": "stdout",
          "output_type": "stream",
          "text": [
            "Aguardando comando: qual o maior país do mundo?\n",
            "Rússia \n",
            "\n",
            "O que mais: qual a capital?\n",
            "Moscou \n",
            "\n",
            "O que mais: qual a comida típica?\n",
            "Borscht (sopa de beterraba) \n",
            "\n",
            "O que mais: fim\n"
          ]
        }
      ]
    },
    {
      "cell_type": "markdown",
      "source": [],
      "metadata": {
        "id": "JHWOg7DtG0tx"
      }
    }
  ]
}